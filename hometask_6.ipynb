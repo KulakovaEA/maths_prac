{
 "cells": [
  {
   "cell_type": "code",
   "execution_count": 2,
   "metadata": {},
   "outputs": [
    {
     "name": "stdout",
     "output_type": "stream",
     "text": [
      "The mean amount of black vertices =  18.46723\n"
     ]
    },
    {
     "data": {
      "image/png": "[encoded data removed]",
      "text/plain": [
       "<Figure size 432x288 with 1 Axes>"
      ]
     },
     "metadata": {
      "needs_background": "light"
     },
     "output_type": "display_data"
    },
    {
     "data": {
      "image/png": "[encoded data removed]",
      "text/plain": [
       "<Figure size 432x288 with 1 Axes>"
      ]
     },
     "metadata": {
      "needs_background": "light"
     },
     "output_type": "display_data"
    },
    {
     "data": {
      "text/plain": [
       "Ttest_indResult(statistic=-0.05914879500789693, pvalue=0.9528344243800325)"
      ]
     },
     "execution_count": 2,
     "metadata": {},
     "output_type": "execute_result"
    }
   ],
   "source": [
    "import matplotlib.pyplot as plt\n",
    "import numpy as np\n",
    "from scipy import stats\n",
    "\n",
    "def g_test(x, start=0.1, end=0.5):\n",
    "    return stats.ttest_ind(x[:int(len(x) * start)], x[-int(len(x) * end):], equal_var=False)\n",
    "\n",
    "def plot_grid(narr):\n",
    "    '''Plots 2d lattice with vertices colored in black and red according to given mask.\n",
    "    Vertice is colored black if narr[i, j] == True and red otherwise.\n",
    "    \n",
    "    Parameters\n",
    "    ----------\n",
    "    narr : 2d boolean ndarray\n",
    "        Mask for vertices colors\n",
    "    '''\n",
    "\n",
    "    if narr.dtype != 'bool':\n",
    "        raise ValueError('narr should be a boolean ndarray')\n",
    "    colors = np.empty(narr.shape, dtype='U5')\n",
    "    colors[:] = 'red'\n",
    "    colors[narr] = 'black'\n",
    "    x, y = np.indices((narr.shape))\n",
    "    plt.scatter(x, y, c=colors.ravel())\n",
    "    plt.show()\n",
    "    \n",
    "def metropolis(start, rec_start, value, proposal, niter, nburn = 0):\n",
    "    '''Generic Metropolis scheme.\n",
    "    Parameters\n",
    "    ---\n",
    "    start : misc\n",
    "        Initial guess.\n",
    "        value : callable\n",
    "        Function to calculate density (unnormalized) at given point.\n",
    "    proposal : callable\n",
    "        Function to get suggestion on a new point based on a current one.\n",
    "    niter : int\n",
    "        Number of iterations.\n",
    "    nburn : int\n",
    "        Number of initial samples to be skipped.\n",
    "        \n",
    "    Return\n",
    "    ---\n",
    "    post : list\n",
    "        List of samples obtained.\n",
    "    '''\n",
    "    current = start\n",
    "    rec_current = rec_start\n",
    "    post = [rec_current]\n",
    "    for i in range(niter):\n",
    "        proposed = proposal(current)\n",
    "        rec_proposed = recolour(proposed, size)\n",
    "        p = value(rec_proposed) / value(rec_current)\n",
    "        if np.random.rand() < p:\n",
    "            current = proposed\n",
    "            rec_current = rec_proposed\n",
    "        post.append(rec_current)\n",
    "    return post[nburn:]\n",
    "    \n",
    "def amount_of_black_ver(a, size):\n",
    "    s = 0\n",
    "    for i in range(size):\n",
    "        for j in range(size):\n",
    "            if (a[i,j] == True):\n",
    "                s += 1\n",
    "    return s\n",
    "\n",
    "def get_neighb(i, j, size):\n",
    "    ind = [] \n",
    "    if ((0 <= i - 1 < size) and (0 <= j < size)):\n",
    "        ind.append([i - 1, j])\n",
    "    if ((0 <= i + 1 < size) and (0 <= j < size)):\n",
    "        ind.append([i + 1, j])\n",
    "    if ((0 <= i < size) and (0 <= j - 1 < size)):\n",
    "        ind.append([i, j - 1])\n",
    "    if ((0 <= i < size) and (0 <= j + 1 < size)):\n",
    "        ind.append([i, j + 1])\n",
    "    return ind\n",
    "\n",
    "def recolour(arr, size):\n",
    "    rec_arr = arr\n",
    "    for i in range(size):\n",
    "        for j in range(size):\n",
    "            neighb = get_neighb(i,j,size)\n",
    "            for k in range(len(neighb)):\n",
    "                if (arr[neighb[k][0], neighb[k][1]] + arr[i,j] == 2):\n",
    "                    rec_arr[neighb[k][0], neighb[k][1]] = 0\n",
    "    return rec_arr\n",
    "\n",
    "def val(arr, size):\n",
    "    tmp = 0\n",
    "    ind = []\n",
    "    for i in range(size):\n",
    "        for j in range(size):\n",
    "            if (arr[i,j] == 1):\n",
    "                ind.append([i, j])\n",
    "            else:\n",
    "                neighb = get_neighb(i, j, size)\n",
    "                for k in range (len(neighb)):\n",
    "                    tmp += arr[neighb[k][0], neighb[k][1]]\n",
    "                if (tmp == 0):\n",
    "                    ind.append([i,j])\n",
    "                tmp = 0\n",
    "    return ind\n",
    "                    \n",
    "def prop(cur, size):\n",
    "    arr = (cur + np.random.choice([0, 1], size=size**2).reshape((size, size))) % 2\n",
    "    return arr\n",
    "\n",
    "    \n",
    "size = 8\n",
    "start = np.random.choice([0, 1], size=size**2).reshape((size, size))#.astype('bool')\n",
    "rec_start = recolour(start, size)\n",
    "value = lambda x: len(val(x, size))\n",
    "proposal = lambda x: prop(x, size)\n",
    "post = metropolis(start, rec_start, value, proposal, 100000)\n",
    "\n",
    "res = np.zeros(100000)\n",
    "for i in range(100000):\n",
    "    res[i] = amount_of_black_ver(post[i], size)\n",
    "    \n",
    "print(\"The mean amount of black vertices = \", res.mean())\n",
    "\n",
    "#plt.figure(figsize=(15,8))\n",
    "plt.plot(res, color = 'lightgreen')\n",
    "plt.title(\"Sample of amount of black vertices\")\n",
    "plt.show()\n",
    "\n",
    "#plt.figure(figsize=(15,8))\n",
    "plt.hist(res, color = 'lightgreen')\n",
    "plt.title(\"Distribution of amount of black vertices\")\n",
    "plt.show()\n",
    "\n",
    "g_test(res)"
   ]
  },
  {
   "cell_type": "code",
   "execution_count": null,
   "metadata": {},
   "outputs": [],
   "source": []
  }
 ],
 "metadata": {
  "kernelspec": {
   "display_name": "Python 3",
   "language": "python",
   "name": "python3"
  },
  "language_info": {
   "codemirror_mode": {
    "name": "ipython",
    "version": 3
   },
   "file_extension": ".py",
   "mimetype": "text/x-python",
   "name": "python",
   "nbconvert_exporter": "python",
   "pygments_lexer": "ipython3",
   "version": "3.7.0"
  }
 },
 "nbformat": 4,
 "nbformat_minor": 2
}
