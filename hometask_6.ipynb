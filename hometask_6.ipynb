{
 "cells": [
  {
   "cell_type": "code",
   "execution_count": 106,
   "metadata": {},
   "outputs": [
    {
     "name": "stdout",
     "output_type": "stream",
     "text": [
      "________________________\n",
      "The mean amount of black vertices =  13.414815851841482\n"
     ]
    },
    {
     "data": {
      "image/png": "[encoded data removed]",
      "text/plain": [
       "<Figure size 432x288 with 1 Axes>"
      ]
     },
     "metadata": {
      "needs_background": "light"
     },
     "output_type": "display_data"
    },
    {
     "data": {
      "image/png": "[encoded data removed]",
      "text/plain": [
       "<Figure size 432x288 with 1 Axes>"
      ]
     },
     "metadata": {
      "needs_background": "light"
     },
     "output_type": "display_data"
    },
    {
     "data": {
      "text/plain": [
       "Ttest_indResult(statistic=1.0225936184324032, pvalue=0.3065217083474604)"
      ]
     },
     "execution_count": 106,
     "metadata": {},
     "output_type": "execute_result"
    }
   ],
   "source": [
    "import matplotlib.pyplot as plt\n",
    "import numpy as np\n",
    "from scipy import stats\n",
    "\n",
    "def g_test(x, start=0.1, end=0.5):\n",
    "    return stats.ttest_ind(x[:int(len(x) * start)], x[-int(len(x) * end):], equal_var=False)\n",
    "\n",
    "def get_init_conf(size, steps):\n",
    "    \n",
    "    start = np.zeros(shape = (size, size))\n",
    "\n",
    "    for i in range(steps):\n",
    "        x = np.random.randint(size)\n",
    "        y = np.random.randint(0, size)\n",
    "        coin = np.random.randint(0, 2)\n",
    "        \n",
    "        if (coin):\n",
    "            change = 1\n",
    "            if (x + 1 < size):\n",
    "                if (start[x + 1, y] == 1):\n",
    "                    change = 0\n",
    "                    \n",
    "            if ((x >= 1) and (change)):\n",
    "                if (start[x - 1, y] == 1):\n",
    "                    change = 0\n",
    "                    \n",
    "            if ((y + 1 < size) and (change)):\n",
    "                if (start[x, y + 1] == 1):\n",
    "                    change = 0\n",
    "             \n",
    "            if ((y >= 1) and (change)):\n",
    "                if (start[x, y - 1] == 1):\n",
    "                    change = 0\n",
    "                    \n",
    "            if (change):\n",
    "                start[x, y] = 1\n",
    "        else:\n",
    "            start[x, y] = 0\n",
    "    \n",
    "    return start\n",
    "\n",
    "def get_next_conf(size, start):\n",
    "    \n",
    "    next_c = start\n",
    "    x = np.random.randint(0, size)\n",
    "    y = np.random.randint(0, size)    \n",
    "    coin = np.random.randint(0, 2)\n",
    "    \n",
    "    if (coin):\n",
    "        change = 1\n",
    "        if (x + 1 < size):\n",
    "            if (start[x + 1, y] == 1):\n",
    "                change = 0\n",
    "                    \n",
    "        if ((x >= 1) and (change)):\n",
    "            if (start[x - 1, y] == 1):\n",
    "                change = 0\n",
    "                \n",
    "        if ((y + 1 < size) and (change)):\n",
    "            if (start[x, y + 1] == 1):\n",
    "                change = 0\n",
    "             \n",
    "        if ((y >= 1) and (change)):\n",
    "            if (start[x, y - 1] == 1):\n",
    "                change = 0\n",
    "                    \n",
    "            if (change):\n",
    "                next_c[x, y] = 1\n",
    "    else:\n",
    "        next_c[x, y] = 0     \n",
    "        \n",
    "    return next_c\n",
    "\n",
    "def sampling(size, start, niter):\n",
    "    post = [sum(sum(start))]\n",
    "    tmp = np.zeros(shape = (size, size))\n",
    "    check = []\n",
    "    \n",
    "    for i in range(niter):\n",
    "        tmp = get_next_conf(size, start)        \n",
    "        start = tmp\n",
    "        post.append(sum(sum(tmp)))\n",
    "\n",
    "    return post\n",
    "\n",
    "\n",
    "        \n",
    "size = 8\n",
    "#start = np.random.choice([0, 1], size=size**2).reshape((size, size))#.astype('bool')\n",
    "\n",
    "start = get_init_conf(size, 100000)\n",
    "post = sampling(size, start, 100000)\n",
    "res = np.asarray(post)\n",
    "\n",
    "print (\"________________________\")\n",
    "\n",
    "    \n",
    "print(\"The mean amount of black vertices = \", res.mean())\n",
    "\n",
    "#plt.figure(figsize=(15,8))\n",
    "plt.plot(res[20000:], color = 'lightgreen')\n",
    "plt.title(\"Sample of amount of black vertices\")\n",
    "plt.show()\n",
    "\n",
    "#plt.figure(figsize=(15,8))\n",
    "plt.hist(res[20000:], color = 'lightgreen')\n",
    "plt.title(\"Distribution of amount of black vertices\")\n",
    "plt.show()\n",
    "\n",
    "g_test(res[20000:])\n",
    "\n"
   ]
  },
  {
   "cell_type": "code",
   "execution_count": null,
   "metadata": {},
   "outputs": [],
   "source": []
  }
 ],
 "metadata": {
  "kernelspec": {
   "display_name": "Python 3",
   "language": "python",
   "name": "python3"
  },
  "language_info": {
   "codemirror_mode": {
    "name": "ipython",
    "version": 3
   },
   "file_extension": ".py",
   "mimetype": "text/x-python",
   "name": "python",
   "nbconvert_exporter": "python",
   "pygments_lexer": "ipython3",
   "version": "3.7.0"
  }
 },
 "nbformat": 4,
 "nbformat_minor": 2
}
