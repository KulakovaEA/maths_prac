{
 "cells": [
  {
   "cell_type": "code",
   "execution_count": null,
   "metadata": {},
   "outputs": [],
   "source": [
    "#exescise 3\n",
    "new_list = []\n",
    "n = int(input(\"enter the number: \"))\n",
    "for x in [element for element in [1,2,10,30,15,1,2,3,60,17,100,-10,13] if element < n]: new_list.append(x)\n",
    "print(new_list)"
   ]
  },
  {
   "cell_type": "code",
   "execution_count": null,
   "metadata": {},
   "outputs": [],
   "source": [
    "#exercise 4\n",
    "number = int(input(\"Enter a number: \"))\n",
    "for x in [num for num in range(1, number+1, 1) if number % num == 0]: print(x)"
   ]
  },
  {
   "cell_type": "code",
   "execution_count": null,
   "metadata": {},
   "outputs": [],
   "source": [
    "#exercise 5\n",
    "import random\n",
    "list_1 = []\n",
    "list_2 = []\n",
    "for i in range(random.randint(1,27)):\n",
    "    list_1.append(random.randint(1,100))\n",
    "    list_2.append(random.randint(1,100))\n",
    "print(list_1)\n",
    "print(list_2)\n",
    "result = []\n",
    "for element in[el for el in list_1 if el in list_2 and el not in result]: result.append(element)\n",
    "print(result)"
   ]
  },
  {
   "cell_type": "code",
   "execution_count": null,
   "metadata": {},
   "outputs": [],
   "source": [
    "# exercise 9\n",
    "import random\n",
    "number = random.randint(1,9)\n",
    "c = 0\n",
    "num = 0\n",
    "while num != number and num != \"exit\":\n",
    "    num = input(\"Enter the number (or exit the game): \")\n",
    "    if num == \"exit\":\n",
    "          break\n",
    "    c += 1\n",
    "    num = int(num)\n",
    "    if num == number:\n",
    "          print(\"you win only in \" + str(c) + \" steps!\" )\n",
    "          break\n",
    "    else: \n",
    "        s = \"too low\" if num < number else \"too high\"\n",
    "        print(s)\n",
    "              \n",
    "                   \n",
    "                   "
   ]
  },
  {
   "cell_type": "code",
   "execution_count": null,
   "metadata": {},
   "outputs": [],
   "source": [
    "# exercise 11\n",
    "number = int(input(\"Enter a number: \"))\n",
    "if number > 1:\n",
    "    divisors = [num for num in range(1, number+1, 1) if number % num == 0]\n",
    "    def is_prime(n):\n",
    "        s = \"is prime\" if divisors == [1, number] else \"is not prime\"\n",
    "        print(s)\n",
    "    is_prime(number)\n",
    "else: \n",
    "    print(\"not prime\")\n",
    "    "
   ]
  }
 ],
 "metadata": {
  "kernelspec": {
   "display_name": "Python 3",
   "language": "python",
   "name": "python3"
  },
  "language_info": {
   "codemirror_mode": {
    "name": "ipython",
    "version": 3
   },
   "file_extension": ".py",
   "mimetype": "text/x-python",
   "name": "python",
   "nbconvert_exporter": "python",
   "pygments_lexer": "ipython3",
   "version": "3.7.0"
  }
 },
 "nbformat": 4,
 "nbformat_minor": 2
}
