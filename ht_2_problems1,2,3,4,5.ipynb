{
 "cells": [
  {
   "cell_type": "code",
   "execution_count": 37,
   "metadata": {},
   "outputs": [
    {
     "name": "stdout",
     "output_type": "stream",
     "text": [
      "[[0.80820928 0.95106029 0.50202185]\n",
      " [0.9023729  0.38895043 0.84280721]\n",
      " [0.21430011 0.06778843 0.43478298]\n",
      " [0.80019992 0.25713685 0.10640643]\n",
      " [0.26771225 0.53862767 0.10278895]\n",
      " [0.94478867 0.34837344 0.72496837]\n",
      " [0.59123372 0.73613568 0.51344517]\n",
      " [0.06532343 0.78703783 0.68444918]\n",
      " [0.15917546 0.50338855 0.13706865]\n",
      " [0.29426213 0.40940296 0.016559  ]]\n",
      "0.5020218509542242\n",
      "0.3889504349753645\n",
      "0.43478297712266056\n",
      "0.2571368513411776\n",
      "0.5386276663244859\n",
      "0.3483734430784432\n",
      "0.513445172200594\n",
      "0.6844491784994299\n",
      "0.5033885491144896\n",
      "0.40940295621186096\n"
     ]
    }
   ],
   "source": [
    "#problem_1\n",
    "import numpy as np\n",
    "\n",
    "my_2d_array = np.random.random((10, 3))\n",
    "print(my_2d_array)\n",
    "index = np.argmin(abs(my_2d_array - 0.5),axis=1)\n",
    "for i in range(10):\n",
    "   print(my_2d_array[i,index[i]])\n"
   ]
  },
  {
   "cell_type": "code",
   "execution_count": 51,
   "metadata": {},
   "outputs": [
    {
     "name": "stdout",
     "output_type": "stream",
     "text": [
      "[[0.20161452 0.53107709 0.52047001 0.32590301 0.55186394 0.3820743 ]\n",
      " [0.05503518 0.51022634 0.23221184 0.36570961 0.716518   0.00186385]\n",
      " [0.28899834 0.03632261 0.44599346 0.84369662 0.75035688 0.69452199]\n",
      " [0.15974288 0.07198967 0.94659536 0.44436789 0.87089756 0.55652858]\n",
      " [0.39275005 0.03764551 0.34166348 0.78420579 0.70468323 0.97619902]\n",
      " [0.80394288 0.1799415  0.68324485 0.28215622 0.0026994  0.66897121]]\n",
      "[  45.66175401   51.80147391   13.17714857   10.81004674 1199.21010296\n",
      " 1406.20490167]\n"
     ]
    }
   ],
   "source": [
    "#problem_2\n",
    "import numpy as np\n",
    "\n",
    "a = np.random.random((6, 6))\n",
    "print(a)\n",
    "print(np.sum(a, axis = 1) / np.min(a, axis = 0))"
   ]
  },
  {
   "cell_type": "code",
   "execution_count": 5,
   "metadata": {},
   "outputs": [
    {
     "name": "stdout",
     "output_type": "stream",
     "text": [
      "5\n"
     ]
    }
   ],
   "source": [
    "#problem_3\n",
    "import numpy as np\n",
    "\n",
    "x = np.array([6, 2, 0, 3, 0, 0, 5, 7, 0]) \n",
    "new_x = x[0:-1:1]\n",
    "print(np.max(new_x[np.argwhere(new_x == 0) + 1]))"
   ]
  },
  {
   "cell_type": "code",
   "execution_count": 6,
   "metadata": {},
   "outputs": [
    {
     "name": "stdout",
     "output_type": "stream",
     "text": [
      "[2. 2. 2. 2. 1. 4. 1. 1. 2. 1.]\n"
     ]
    }
   ],
   "source": [
    "#problem_4\n",
    "import numpy as np\n",
    "\n",
    "x = np.ones(10)\n",
    "i = np.array([0, 1, 2, 3, 5, 5, 5, 8])\n",
    "np.add.at(x, i, 1)\n",
    "print(x)"
   ]
  },
  {
   "cell_type": "code",
   "execution_count": 32,
   "metadata": {},
   "outputs": [
    {
     "name": "stdout",
     "output_type": "stream",
     "text": [
      "[[ 0  1  2  3]\n",
      " [ 4  5  6  7]\n",
      " [ 8  9 10 11]\n",
      " [12 13 14 15]]\n",
      "0\n",
      "1\n",
      "2\n",
      "3\n",
      "4\n",
      "5\n",
      "6\n",
      "{0: [0], 1: [1, 4], 2: [2, 5, 8], 3: [3, 6, 9, 12], 4: [7, 10, 13], 5: [11, 14], 6: [15]}\n"
     ]
    }
   ],
   "source": [
    "#problem_5\n",
    "import numpy as np\n",
    "\n",
    "a = np.arange(16).reshape(4, 4)\n",
    "print(a)\n",
    "d = dict()\n",
    "for i in range(7):\n",
    "    diag = []\n",
    "    print(i)\n",
    "    for j in range(max(i-3,0),min(i,3)+1):\n",
    "        diag.append(a[j,i-j])\n",
    "        d.update({i:diag})\n",
    "print(d)"
   ]
  },
  {
   "cell_type": "code",
   "execution_count": null,
   "metadata": {},
   "outputs": [],
   "source": []
  }
 ],
 "metadata": {
  "kernelspec": {
   "display_name": "Python 3",
   "language": "python",
   "name": "python3"
  },
  "language_info": {
   "codemirror_mode": {
    "name": "ipython",
    "version": 3
   },
   "file_extension": ".py",
   "mimetype": "text/x-python",
   "name": "python",
   "nbconvert_exporter": "python",
   "pygments_lexer": "ipython3",
   "version": "3.7.0"
  }
 },
 "nbformat": 4,
 "nbformat_minor": 2
}
